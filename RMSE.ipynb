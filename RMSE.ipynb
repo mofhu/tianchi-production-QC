{
 "cells": [
  {
   "cell_type": "code",
   "execution_count": 3,
   "metadata": {
    "collapsed": false
   },
   "outputs": [
    {
     "data": {
      "text/plain": [
       "0.13228756555322949"
      ]
     },
     "execution_count": 3,
     "metadata": {},
     "output_type": "execute_result"
    }
   ],
   "source": [
    "def RMSE(y, y_pred):\n",
    "    from sklearn.metrics import mean_squared_error\n",
    "    return mean_squared_error(y, y_pred)**0.5\n",
    "\n",
    "RMSE([1,1,1,1], [.9,.8,.9,.9])"
   ]
  },
  {
   "cell_type": "code",
   "execution_count": null,
   "metadata": {
    "collapsed": true
   },
   "outputs": [],
   "source": [
    "def RMSE_unpack(y, y_pred):\n",
    "    from sklearn.metrics import mean_squared_error\n",
    "    return mean_squared_error(1.001 - 10 **  y, 1.001 - 10 **  y_pred)**0.5\n",
    "\n",
    "1.001 - 10 **  y_pred"
   ]
  }
 ],
 "metadata": {
  "kernelspec": {
   "display_name": "Python 3",
   "language": "python",
   "name": "python3"
  },
  "language_info": {
   "codemirror_mode": {
    "name": "ipython",
    "version": 3
   },
   "file_extension": ".py",
   "mimetype": "text/x-python",
   "name": "python",
   "nbconvert_exporter": "python",
   "pygments_lexer": "ipython3",
   "version": "3.5.1"
  }
 },
 "nbformat": 4,
 "nbformat_minor": 0
}
